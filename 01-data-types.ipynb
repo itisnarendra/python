{
 "cells": [
  {
   "cell_type": "markdown",
   "metadata": {
    "collapsed": false
   },
   "source": [
    "# Python has seven data types - none, numeric, sequences, mappings, classes, instances and exceptions."
   ]
  },
  {
   "cell_type": "markdown",
   "metadata": {
    "collapsed": false
   },
   "source": [
    "## Data type - None\n",
    "Similar to null in other langauges"
   ]
  },
  {
   "cell_type": "code",
   "execution_count": 1,
   "metadata": {
    "collapsed": false
   },
   "outputs": [
    {
     "data": {
      "text/plain": [
       "NoneType"
      ]
     },
     "execution_count": 1,
     "metadata": {
     },
     "output_type": "execute_result"
    }
   ],
   "source": [
    "a = None\n",
    "type(a)"
   ]
  },
  {
   "cell_type": "markdown",
   "metadata": {
    "collapsed": false
   },
   "source": [
    "## Python has four numeric types - bool, int, float and complex\n",
    "Older implementation supported a byte data type"
   ]
  },
  {
   "cell_type": "markdown",
   "metadata": {
    "collapsed": false
   },
   "source": [
    "### Data type - bool\n",
    "This is a sub-type of integer"
   ]
  },
  {
   "cell_type": "code",
   "execution_count": 8,
   "metadata": {
    "collapsed": false
   },
   "outputs": [
    {
     "name": "stdout",
     "output_type": "stream",
     "text": [
      "Marital status: True\n"
     ]
    },
    {
     "data": {
      "text/plain": [
       "bool"
      ]
     },
     "execution_count": 8,
     "metadata": {
     },
     "output_type": "execute_result"
    }
   ],
   "source": [
    "is_married = True\n",
    "is_fulltime = False\n",
    "print(f'Marital status: {is_married}')\n",
    "type(is_married)"
   ]
  },
  {
   "cell_type": "markdown",
   "metadata": {
    "collapsed": false
   },
   "source": [
    "### Data type - Int\n",
    "This is a number with unlimited precision"
   ]
  },
  {
   "cell_type": "code",
   "execution_count": 2,
   "metadata": {
    "collapsed": false
   },
   "outputs": [
    {
     "name": "stdout",
     "output_type": "stream",
     "text": [
      "ftp used port 21\n"
     ]
    },
    {
     "data": {
      "text/plain": [
       "int"
      ]
     },
     "execution_count": 2,
     "metadata": {
     },
     "output_type": "execute_result"
    }
   ],
   "source": [
    "ftp = 0b10101\t\t#binary number\n",
    "ssh = 0o26\t\t\t#octal number\n",
    "sntp = 25\t\t\t#decimal number\n",
    "http = 0x50\t\t\t#hexadecimal number\n",
    "\n",
    "print(f'ftp used port {ftp}')\n",
    "type(ftp)\n",
    "#help(ftp)\t\t\t#uncomments this line for more output\n"
   ]
  },
  {
   "cell_type": "markdown",
   "metadata": {
    "collapsed": false
   },
   "source": [
    "### Data type - Float"
   ]
  },
  {
   "cell_type": "code",
   "execution_count": 5,
   "metadata": {
    "collapsed": false
   },
   "outputs": [
    {
     "name": "stdout",
     "output_type": "stream",
     "text": [
      "Mass of the earth 5.972e+24kg\n"
     ]
    },
    {
     "data": {
      "text/plain": [
       "float"
      ]
     },
     "execution_count": 5,
     "metadata": {
     },
     "output_type": "execute_result"
    }
   ],
   "source": [
    "##Python data type - Numeric (float)\n",
    "earth = 5.972e24\t#mass of earth in kg\n",
    "proton = 1.6726e-27\t#mass of a proton in kg\n",
    "print(f'Mass of the earth is {earth}kg')\n",
    "type(earth)"
   ]
  },
  {
   "cell_type": "markdown",
   "metadata": {
    "collapsed": false
   },
   "source": [
    "### Data type - Complex"
   ]
  },
  {
   "cell_type": "code",
   "execution_count": 11,
   "metadata": {
    "collapsed": false
   },
   "outputs": [
    {
     "name": "stdout",
     "output_type": "stream",
     "text": [
      "Sum is (8+3j)\n",
      "Difference is (2+1j)\n"
     ]
    },
    {
     "data": {
      "text/plain": [
       "complex"
      ]
     },
     "execution_count": 11,
     "metadata": {
     },
     "output_type": "execute_result"
    }
   ],
   "source": [
    "a = 3+1j\n",
    "b = 5+2j\n",
    "\n",
    "print(f'Sum is {a+b}')\n",
    "print(f'Difference is {b-a}')\n",
    "type(a)"
   ]
  },
  {
   "cell_type": "markdown",
   "metadata": {
    "collapsed": false
   },
   "source": [
    "## Data type - Sequences\n",
    "There are three basic sequences - list,, tuple and range"
   ]
  },
  {
   "cell_type": "markdown",
   "metadata": {
    "collapsed": false
   },
   "source": [
    "### List are delimited by square brackets\n",
    "List items does not have to be the same type"
   ]
  },
  {
   "cell_type": "code",
   "execution_count": 1,
   "metadata": {
    "collapsed": false
   },
   "outputs": [
    {
     "name": "stdout",
     "output_type": "stream",
     "text": [
      "['ftp', 'ssh', 'smtp', 'http']\n",
      "[21, 22, 25, 80]\n",
      "['this', 0, 3.15, [4], 'is', 'also a list']\n"
     ]
    },
    {
     "data": {
      "text/plain": [
       "list"
      ]
     },
     "execution_count": 1,
     "metadata": {
     },
     "output_type": "execute_result"
    }
   ],
   "source": [
    "#list using the constructor\n",
    "services = list(('ftp', 'ssh', 'smtp', 'http'))\n",
    "#list by assignment\n",
    "ports = [ 21, 22, 25, 80 ]\n",
    "foo = ['this', 0, 3.15, [4], \"is\", '''also a list''']\n",
    "\n",
    "print(services)\n",
    "print(ports)\n",
    "print(foo)\n",
    "type(foo)"
   ]
  },
  {
   "cell_type": "markdown",
   "metadata": {
    "collapsed": false
   },
   "source": [
    "#### Items are accessed via indices much like arrays\n",
    "\n"
   ]
  },
  {
   "cell_type": "code",
   "execution_count": 3,
   "metadata": {
    "collapsed": false
   },
   "outputs": [
    {
     "name": "stdout",
     "output_type": "stream",
     "text": [
      "['ftp', 'ssh', 'smtp', 'http', 'dns']\n",
      "[21, 22, 25, 80, 52]\n"
     ]
    }
   ],
   "source": [
    "ports.insert(4, 52)\n",
    "services.insert(len(services), 'dns')\n",
    "print(services)\n",
    "print(ports)"
   ]
  },
  {
   "cell_type": "markdown",
   "metadata": {
    "collapsed": false
   },
   "source": [
    "### Tuple are delimited by normal brackets\n",
    "Tuple items does not have to be the same type\n",
    "Items are immutable"
   ]
  },
  {
   "cell_type": "code",
   "execution_count": 5,
   "metadata": {
    "collapsed": false
   },
   "outputs": [
    {
     "name": "stdout",
     "output_type": "stream",
     "text": [
      "('gannymege', 'europa', 'lo')\n",
      "gannymege\n",
      "('gannymege', 'europa', 'lo', 'callisto')\n"
     ]
    }
   ],
   "source": [
    "#tuple using the constructor\n",
    "planets = tuple(('mercury', 'venus', 'mars', 'earth'))\n",
    "#tuple by assignment\n",
    "moons = ('gannymege', 'europa', 'lo')\n",
    "\n",
    "print(moons)\n",
    "\n",
    "print(moons[0])\n",
    "\n",
    "#moons[0] = 'earth'         #does not work, items are immutable\n",
    "\n",
    "moons += ('callisto',)     #notice the trailing comma\n",
    "\n",
    "print(moons)\n"
   ]
  },
  {
   "cell_type": "markdown",
   "metadata": {
    "collapsed": false
   },
   "source": [
    "### Range can only be obtain by invoking the range() function\n",
    "It is used with for loops\n",
    "More will be covered later\n"
   ]
  },
  {
   "cell_type": "code",
   "execution_count": 0,
   "metadata": {
    "collapsed": false
   },
   "outputs": [
   ],
   "source": [
    "a = range(6)\n",
    "type(a)\n",
    "\n",
    "b = range(3,7)\n",
    "\n",
    "c = range(10, 25, 4)\n"
   ]
  },
  {
   "cell_type": "code",
   "execution_count": 0,
   "metadata": {
    "collapsed": false
   },
   "outputs": [
   ],
   "source": [
    "# Mappings\n",
    "More will be covered later"
   ]
  },
  {
   "cell_type": "markdown",
   "metadata": {
    "collapsed": false
   },
   "source": [
    "Dictionary is a series of key-value pairs"
   ]
  },
  {
   "cell_type": "code",
   "execution_count": 0,
   "metadata": {
    "collapsed": false
   },
   "outputs": [
   ],
   "source": [
    "#dictionary from constructor\n",
    "planets = dict()     #\n",
    "services = {'ftp': 'no value', 'ssh': 22, 'smtp': 25, 'http': 80}\n",
    "\n",
    "services['ftp'] = 21          #mutate the value for key ftp\n",
    "\n",
    "services['dns'] = 53          #there is no key dns\n",
    "\n",
    ">>> services\n",
    "{'ftp': 21, 'ssh': 22, 'smtp': 25, 'http': 80, 'pop3': 110, 'imap': 220, 'https': 443, 'dns': 53}\n",
    ">>> services['ftp'] = 'no value'\n",
    ">>> services\n",
    "{'ftp': 'no value', 'ssh': 22, 'smtp': 25, 'http': 80, 'pop3': 110, 'imap': 220, 'https': 443, 'dns': 53}\n",
    ">>> "
   ]
  }
 ],
 "metadata": {
  "kernelspec": {
   "display_name": "Python 3 (system-wide)",
   "language": "python",
   "metadata": {
    "cocalc": {
     "description": "Python 3 programming language",
     "priority": 100,
     "url": "https://www.python.org/"
    }
   },
   "name": "python3"
  },
  "language_info": {
   "codemirror_mode": {
    "name": "ipython",
    "version": 3
   },
   "file_extension": ".py",
   "mimetype": "text/x-python",
   "name": "python",
   "nbconvert_exporter": "python",
   "pygments_lexer": "ipython3",
   "version": "3.6.8"
  }
 },
 "nbformat": 4,
 "nbformat_minor": 0
}